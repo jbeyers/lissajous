{
 "cells": [
  {
   "cell_type": "markdown",
   "metadata": {},
   "source": [
    "# Lissajous drawing machine\n",
    "\n",
    "This is an interface to experiment with the lissajous drawing machine, to preview the drawings before they are created.\n",
    "\n",
    "\n",
    "\n",
    "You can play around with the settings to create different images.\n"
   ]
  },
  {
   "cell_type": "code",
   "execution_count": 20,
   "metadata": {},
   "outputs": [
    {
     "data": {
      "application/vnd.jupyter.widget-view+json": {
       "model_id": "2a3ff26948e849f79d1d371fa2db7225",
       "version_major": 2,
       "version_minor": 0
      },
      "text/html": [
       "<p>Failed to display Jupyter Widget of type <code>interactive</code>.</p>\n",
       "<p>\n",
       "  If you're reading this message in Jupyter Notebook or JupyterLab, it may mean\n",
       "  that the widgets JavaScript is still loading. If this message persists, it\n",
       "  likely means that the widgets JavaScript library is either not installed or\n",
       "  not enabled. See the <a href=\"https://ipywidgets.readthedocs.io/en/stable/user_install.html\">Jupyter\n",
       "  Widgets Documentation</a> for setup instructions.\n",
       "</p>\n",
       "<p>\n",
       "  If you're reading this message in another notebook frontend (for example, a static\n",
       "  rendering on GitHub or <a href=\"https://nbviewer.jupyter.org/\">NBViewer</a>),\n",
       "  it may mean that your frontend doesn't currently support widgets.\n",
       "</p>\n"
      ],
      "text/plain": [
       "interactive(children=(IntSlider(value=2, description='multiplier', max=3, min=1), FloatSlider(value=0.015, description='offset', max=0.03, step=0.001), FloatSlider(value=1.57, description='starter', max=3.142, step=0.002), FloatSlider(value=0.5, description='circle_size', max=1.0, step=0.01), FloatSlider(value=0.0, description='circle_speed', max=0.25, min=-0.25, step=0.002), FloatSlider(value=1.57, description='circle_start', max=3.142, step=0.002), Output()), _dom_classes=('widget-interact',))"
      ]
     },
     "metadata": {},
     "output_type": "display_data"
    }
   ],
   "source": [
    "from simple_svg import Scene, Line\n",
    "from IPython.display import SVG\n",
    "import math\n",
    "import serial\n",
    "from ipywidgets import interact\n",
    "\n",
    "\n",
    "@interact(multiplier=(1, 3), offset=(0.0, 0.03, 0.001), starter=(0.0, 3.142, 0.002), circle_size=(0.0, 1.0, 0.01), circle_speed=(-0.25, 0.25, 0.002), circle_start=(0.0, 3.142, 0.002))\n",
    "def harmonograph(multiplier, offset, starter, circle_size, circle_speed, circle_start):\n",
    "    scene = Scene('test', 800, 800)\n",
    "    pos = 0\n",
    "    spd = 0.05\n",
    "    decay = 6000\n",
    "    facter = multiplier + offset\n",
    "    prevx = 400\n",
    "    prevy = 400\n",
    "    min_x = max_x = min_y = max_y = prev_x = prev_y = 400\n",
    "    points = []\n",
    "    for pos in range(decay//10, decay):\n",
    "        adjx = int(400 + int(200 * (pos/float(decay)) * math.sin(pos * spd)))\n",
    "        adjy = int(400 + int(200 * (pos/float(decay)) * math.sin(starter + (pos * spd * facter))))\n",
    "        adjx += int(circle_size * 200 * (pos/float(decay)) * math.sin(circle_start + (pos * spd * circle_speed)))\n",
    "        adjy += int(circle_size * 200 * (pos/float(decay)) * math.cos(circle_start + (pos * spd * circle_speed)))\n",
    "        points.append([adjx, adjy])\n",
    "        min_x = min(min_x, adjx)\n",
    "        min_y = min(min_y, adjy)\n",
    "        max_x = max(max_x, adjx)\n",
    "        max_y = max(max_y, adjy)\n",
    "\n",
    "    scale = min(800.0/(max_x - min_x), 800.0/(max_y - min_y))\n",
    "    x_offset = (max_x + min_x)/2 - 400\n",
    "    y_offset = (max_y + min_y)/2 - 400\n",
    "\n",
    "    for point in points:\n",
    "        point_x = scale*(point[0] - min_x)\n",
    "        point_y = scale*(point[1] - min_y)\n",
    "        scene.add(Line((prevx, prevy), (point_x, point_y)))\n",
    "        prevx = point_x\n",
    "        prevy = point_y\n",
    "\n",
    "    # rework min_x, min_y and scale to workable numbers\n",
    "    min_x = min_x*70/400\n",
    "    min_y = min_y*70/400\n",
    "\n",
    "    ser = serial.Serial('/dev/ttyACM0', 9600)\n",
    "    # tosend = f'{facter} {starter} {circle_size} {circle_speed} {circle_start} {min_x} {min_y} {scale:.4f}\\r'\n",
    "    tosend = f'{facter}\\n{starter}\\n{circle_size}\\n{circle_speed}\\n{circle_start}\\n{min_x}\\n{min_y}\\n{scale:.4f}\\n'\n",
    "    print(tosend)\n",
    "    ser.write(tosend.encode('utf-8'))\n",
    "    return SVG(\"\\n\".join(scene.strarray()))\n"
   ]
  },
  {
   "cell_type": "markdown",
   "metadata": {},
   "source": [
    "This is just to get some space below so the view does not collapse.\n",
    "\n",
    "l\n",
    "\n",
    "l\n",
    "\n",
    "l\n",
    "\n",
    "l\n",
    "\n",
    "l\n",
    "\n",
    "l\n",
    "\n",
    "l\n",
    "\n",
    "l\n",
    "\n",
    "l\n",
    "\n",
    "l\n",
    "\n",
    "l\n",
    "\n",
    "l\n",
    "\n",
    "l\n",
    "\n",
    "l\n",
    "\n",
    "l\n",
    "\n",
    "l\n",
    "\n",
    "l\n",
    "\n",
    "l\n",
    "\n",
    "l\n",
    "\n",
    "l\n",
    "\n",
    "l\n",
    "\n",
    "l\n",
    "\n",
    "l"
   ]
  },
  {
   "cell_type": "code",
   "execution_count": null,
   "metadata": {},
   "outputs": [],
   "source": []
  }
 ],
 "metadata": {
  "kernelspec": {
   "display_name": "Python 3",
   "language": "python",
   "name": "python3"
  },
  "language_info": {
   "codemirror_mode": {
    "name": "ipython",
    "version": 3
   },
   "file_extension": ".py",
   "mimetype": "text/x-python",
   "name": "python",
   "nbconvert_exporter": "python",
   "pygments_lexer": "ipython3",
   "version": "3.6.3"
  }
 },
 "nbformat": 4,
 "nbformat_minor": 2
}
