{
 "cells": [
  {
   "cell_type": "markdown",
   "metadata": {},
   "source": [
    "# Lissajous drawing machine\n",
    "\n",
    "This is an interface to experiment with the lissajous drawing machine, to preview the drawings before they are created.\n",
    "\n",
    "\n",
    "\n",
    "You can play around with the settings to create different images.\n"
   ]
  },
  {
   "cell_type": "code",
   "execution_count": 4,
   "metadata": {},
   "outputs": [
    {
     "name": "stdout",
     "output_type": "stream",
     "text": [
      "2.001,3\n"
     ]
    }
   ],
   "source": [
    "from simple_svg import Scene, Line\n",
    "from IPython.display import SVG\n",
    "import random\n",
    "import math\n",
    "import serial\n",
    "\n",
    "\n",
    "\n",
    "scene = Scene('test', 1024, 1024)\n",
    "pos = 0\n",
    "spd = 0.05\n",
    "decay = 6000\n",
    "random.seed()\n",
    "#facter = 1.001 + random.random() * 0.02\n",
    "#starter = 3.141 * random.random()\n",
    "facter = 2.001\n",
    "starter = 3\n",
    "ser = serial.Serial('/dev/ttyACM0', 9600)\n",
    "tosend = f'{facter},{starter}'\n",
    "print(tosend)\n",
    "ser.write(tosend.encode())\n",
    "#facter2 = 0.99 + random.random() * 0.02\n",
    "#starter2 = 3.141 * random.random()\n",
    "#decay = 100000 + int(random.random() * 100000)\n",
    "prevx = 512\n",
    "prevy = 512\n",
    "for pos in range(decay//10, decay):\n",
    "    adjx = int(512 + int(256 * (pos/float(decay)) * math.sin(pos * spd)))\n",
    "    adjy = int(512 + int(256 * (pos/float(decay)) * math.sin(starter + (pos * spd * facter))))\n",
    "    #adjx += int(256 * (pos/float(decay)) * math.sin(starter2 + (pos * spd*facter2)))\n",
    "    #adjy += int(256 * (pos/float(decay)) * math.cos(starter2 + (pos * spd*facter2)))\n",
    "    scene.add(Line((prevx,prevy),(adjx, adjy)))\n",
    "    prevx = adjx\n",
    "    prevy = adjy\n",
    "\n",
    "#SVG(\"\\n\".join(scene.strarray()))"
   ]
  },
  {
   "cell_type": "markdown",
   "metadata": {},
   "source": [
    "This is just to get some space below so the view does not collapse.\n",
    "\n",
    "\n",
    "\n",
    "\n",
    "\n",
    "\n",
    "\n",
    "\n",
    "\n",
    "\n",
    "\n",
    "\n",
    "\n",
    "\n",
    "\n",
    "\n",
    "\n",
    "\n",
    "\n",
    "\n",
    "\n",
    "\n",
    "\n",
    "\n",
    "\n",
    "\n",
    "\n",
    "\n",
    "\n",
    "\n",
    "\n",
    "\n",
    "\n",
    "\n",
    "\n",
    "\n",
    "\n",
    "\n",
    "\n",
    "\n",
    "\n",
    "\n",
    "\n",
    "\n",
    "\n",
    "\n",
    "\n",
    "\n",
    "\n",
    "End of the space\n"
   ]
  },
  {
   "cell_type": "code",
   "execution_count": null,
   "metadata": {},
   "outputs": [],
   "source": []
  }
 ],
 "metadata": {
  "kernelspec": {
   "display_name": "Python 3",
   "language": "python",
   "name": "python3"
  },
  "language_info": {
   "codemirror_mode": {
    "name": "ipython",
    "version": 3
   },
   "file_extension": ".py",
   "mimetype": "text/x-python",
   "name": "python",
   "nbconvert_exporter": "python",
   "pygments_lexer": "ipython3",
   "version": "3.6.3"
  }
 },
 "nbformat": 4,
 "nbformat_minor": 2
}
